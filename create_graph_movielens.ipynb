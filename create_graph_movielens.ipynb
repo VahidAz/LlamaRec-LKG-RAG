{
 "cells": [
  {
   "cell_type": "markdown",
   "id": "77c0472f-4ab9-4003-a8d9-a456dcd12a30",
   "metadata": {
    "tags": []
   },
   "source": [
    "### This notebook is intended to construct a Neo4j (https://neo4j.com/) graph using the MovieLens dataset.\n",
    "### Note: The process may take some time to complete."
   ]
  },
  {
   "cell_type": "code",
   "execution_count": 2,
   "id": "f429470b-ad63-42de-b312-728f19a3e938",
   "metadata": {
    "tags": []
   },
   "outputs": [
    {
     "name": "stdout",
     "output_type": "stream",
     "text": [
      "\u001b[33mWARNING: Running pip as the 'root' user can result in broken permissions and conflicting behaviour with the system package manager. It is recommended to use a virtual environment instead: https://pip.pypa.io/warnings/venv\u001b[0m\u001b[33m\n",
      "\u001b[0m"
     ]
    }
   ],
   "source": [
    "!pip install -q py2neo==2021.2.4"
   ]
  },
  {
   "cell_type": "code",
   "execution_count": 3,
   "id": "2bfe3e68-41e5-4d46-a467-86208307974c",
   "metadata": {
    "tags": []
   },
   "outputs": [],
   "source": [
    "import pandas as pd\n",
    "from py2neo import Graph, Node, Relationship\n",
    "import pickle"
   ]
  },
  {
   "cell_type": "code",
   "execution_count": 4,
   "id": "7db28800-3615-417d-87a0-fb28021e4598",
   "metadata": {
    "tags": []
   },
   "outputs": [],
   "source": [
    "# Replace with your actual Neo4j connection details\n",
    "uri = \"YOUR_URI\" \n",
    "username = \"neo4j\"\n",
    "password = \"YOUR_PASSWORD\"\n",
    "\n",
    "graph = Graph(uri, auth=(username, password))"
   ]
  },
  {
   "cell_type": "code",
   "execution_count": 5,
   "id": "74dfd1ba-2521-4823-8e89-d8c51027c1a5",
   "metadata": {
    "tags": []
   },
   "outputs": [
    {
     "name": "stdout",
     "output_type": "stream",
     "text": [
      "610\n",
      "3650\n"
     ]
    }
   ],
   "source": [
    "# Load the preprocessed data\n",
    "with open(\"./LlamaRec/data/preprocessed/ml-100k_min_rating0-min_uc5-min_sc5/dataset.pkl\", \"rb\") as fin:\n",
    "    preprocessed_data = pickle.load(fin)\n",
    "    \n",
    "print(len(preprocessed_data[\"umap\"]))\n",
    "print(len(preprocessed_data[\"smap\"]))"
   ]
  },
  {
   "cell_type": "code",
   "execution_count": 6,
   "id": "5bd86108-b0e5-4f98-931f-0c6b5dff09bf",
   "metadata": {
    "tags": []
   },
   "outputs": [
    {
     "name": "stdout",
     "output_type": "stream",
     "text": [
      "610\n"
     ]
    }
   ],
   "source": [
    "# Load the ratings\n",
    "ratings_df = pd.read_csv(\"./ml-latest-small/ratings.csv\", \n",
    "                         names=['userId', 'movieId', 'rating', 'timestamp'], \n",
    "                         sep=',')\n",
    "ratings_df = ratings_df.iloc[1:]\n",
    "\n",
    "users_id = list(set(ratings_df[\"userId\"].to_list()))\n",
    "print(len(users_id))"
   ]
  },
  {
   "cell_type": "code",
   "execution_count": 7,
   "id": "f08b85c1-6a7a-4127-a234-dedbbaeb6923",
   "metadata": {
    "tags": []
   },
   "outputs": [
    {
     "data": {
      "text/html": [
       "<table><tr><th>node_count</th></tr><tr><td style=\"text-align:right\">610</td></tr></table>"
      ],
      "text/plain": [
       " node_count \n",
       "------------\n",
       "        610 "
      ]
     },
     "execution_count": 7,
     "metadata": {},
     "output_type": "execute_result"
    }
   ],
   "source": [
    "# Add users to the graph\n",
    "def addingUser(users_id):\n",
    "    for id in users_id:\n",
    "        if int(id) in preprocessed_data[\"umap\"]:\n",
    "            id = preprocessed_data[\"umap\"][int(id)]\n",
    "            user_n = Node(\"User\", id=str(id))\n",
    "            graph.merge(user_n, \"User\", \"id\")\n",
    "        \n",
    "addingUser(users_id)\n",
    "\n",
    "# Verification\n",
    "query = \"\"\"MATCH (n:User)\n",
    "RETURN COUNT(n) AS node_count\"\"\"\n",
    "graph.run(query)"
   ]
  },
  {
   "cell_type": "code",
   "execution_count": 8,
   "id": "43d7e366-92a2-4c8e-b8ff-ed5541f51287",
   "metadata": {
    "tags": []
   },
   "outputs": [
    {
     "name": "stdout",
     "output_type": "stream",
     "text": [
      "951\n",
      "9742\n",
      "9742\n",
      "9742\n"
     ]
    }
   ],
   "source": [
    "# Load movies\n",
    "movies_df = pd.read_csv(\"./ml-latest-small/movies.csv\", \n",
    "                        names=['movieId', 'title', 'genres'], \n",
    "                        sep=',')\n",
    "movies_df = movies_df.iloc[1:]\n",
    "\n",
    "# Create separate columns for year and title\n",
    "movies_df[\"year\"] = movies_df[\"title\"].apply(lambda x: x[-5:-1])\n",
    "movies_df[\"title\"] = movies_df[\"title\"].apply(lambda x: x[:-7])\n",
    "\n",
    "# List of all genres\n",
    "all_genres = list(set(movies_df[\"genres\"].tolist()))\n",
    "\n",
    "# Create mappings for movies and their associated properties\n",
    "movies_id = dict(zip(movies_df[\"movieId\"].tolist(), movies_df[\"title\"].tolist()))\n",
    "movies_gen = dict(zip(movies_df[\"movieId\"].tolist(), movies_df[\"genres\"].tolist()))\n",
    "movies_year = dict(zip(movies_df[\"movieId\"].tolist(), movies_df[\"year\"].tolist()))\n",
    "\n",
    "print(len(all_genres))\n",
    "print(len((movies_id)))\n",
    "print(len((movies_gen)))\n",
    "print(len((movies_year)))"
   ]
  },
  {
   "cell_type": "code",
   "execution_count": 9,
   "id": "b8b7bde5-f30d-4085-a4f3-690935901b8f",
   "metadata": {
    "tags": []
   },
   "outputs": [],
   "source": [
    "# Save mappings for later use in training\n",
    "with open(\"./ml-latest-small/movies_ids_to_titles\", \"wb\") as fout:\n",
    "    pickle.dump(movies_id, fout)"
   ]
  },
  {
   "cell_type": "code",
   "execution_count": 10,
   "id": "d1b6d9d1-3bda-495e-af5f-71cff4d3e583",
   "metadata": {
    "tags": []
   },
   "outputs": [
    {
     "data": {
      "text/html": [
       "<table><tr><th>node_count</th></tr><tr><td style=\"text-align:right\">951</td></tr></table>"
      ],
      "text/plain": [
       " node_count \n",
       "------------\n",
       "        951 "
      ]
     },
     "execution_count": 10,
     "metadata": {},
     "output_type": "execute_result"
    }
   ],
   "source": [
    "# Add genres to the graph\n",
    "def addingGenre(all_genres):\n",
    "    for genre in all_genres:\n",
    "        gen_n = Node(\"Genre\", id=genre)\n",
    "        graph.merge(gen_n, \"Genre\", \"id\")\n",
    "        \n",
    "addingGenre(all_genres)\n",
    "\n",
    "# Verification\n",
    "query = \"\"\"MATCH (n:Genre)\n",
    "RETURN COUNT(n) AS node_count\"\"\"\n",
    "graph.run(query)"
   ]
  },
  {
   "cell_type": "code",
   "execution_count": 11,
   "id": "64d10203-da58-46cd-b936-65d0bbbaa590",
   "metadata": {
    "tags": []
   },
   "outputs": [
    {
     "data": {
      "text/html": [
       "<table><tr><th>node_count</th></tr><tr><td style=\"text-align:right\">97</td></tr></table>"
      ],
      "text/plain": [
       " node_count \n",
       "------------\n",
       "         97 "
      ]
     },
     "execution_count": 11,
     "metadata": {},
     "output_type": "execute_result"
    }
   ],
   "source": [
    "# Add years to the graph\n",
    "def addingYear(movies_year):\n",
    "    for key, val in movies_year.items():\n",
    "        if int(key) in preprocessed_data[\"smap\"]:\n",
    "            year_n = Node(\"Year\", id=str(val))\n",
    "            graph.merge(year_n, \"Year\", \"id\")\n",
    "        \n",
    "addingYear(movies_year)\n",
    "\n",
    "# Verification\n",
    "query = \"\"\"MATCH (n:Year)\n",
    "RETURN COUNT(n) AS node_count\"\"\"\n",
    "graph.run(query)"
   ]
  },
  {
   "cell_type": "code",
   "execution_count": 12,
   "id": "cf70e91e-dac2-45ea-a3ab-b42703acff6c",
   "metadata": {
    "tags": []
   },
   "outputs": [
    {
     "data": {
      "text/html": [
       "<table><tr><th>node_count</th></tr><tr><td style=\"text-align:right\">3650</td></tr></table>"
      ],
      "text/plain": [
       " node_count \n",
       "------------\n",
       "       3650 "
      ]
     },
     "execution_count": 12,
     "metadata": {},
     "output_type": "execute_result"
    }
   ],
   "source": [
    "# Add movies to the graph\n",
    "def addingMovies(movies_id):\n",
    "    for key, val in movies_id.items():\n",
    "        if int(key) in preprocessed_data[\"smap\"]:\n",
    "            key = preprocessed_data[\"smap\"][int(key)]\n",
    "            mov_n = Node(\"Movie\", id=str(key), title=str(val))\n",
    "            graph.merge(mov_n, \"Movie\", \"id\")\n",
    "        \n",
    "addingMovies(movies_id)\n",
    "\n",
    "# Verification\n",
    "query = \"\"\"MATCH (n:Movie)\n",
    "RETURN COUNT(n) AS node_count\"\"\"\n",
    "graph.run(query)"
   ]
  },
  {
   "cell_type": "code",
   "execution_count": 13,
   "id": "ec798097-0209-48a8-afc5-bfa5d1f3b56a",
   "metadata": {
    "tags": []
   },
   "outputs": [
    {
     "name": "stdout",
     "output_type": "stream",
     "text": [
      " relationship_count \n",
      "--------------------\n",
      "               3650 \n",
      "\n",
      " relationship_count \n",
      "--------------------\n",
      "               3650 \n",
      "\n"
     ]
    }
   ],
   "source": [
    "# Add bidirectional relationships between movies and genres to the graph\n",
    "def connectMovieGenre(movies_gen):\n",
    "    for key, val in movies_gen.items():\n",
    "        if int(key) in preprocessed_data[\"smap\"]:\n",
    "            key = preprocessed_data[\"smap\"][int(key)]\n",
    "    \n",
    "            query = 'MATCH (m:Movie {id: $movie_id}), (g:Genre {id: $gen_id}) CREATE (m)-[:GENRE_IS]->(g)'\n",
    "            graph.run(query, movie_id=str(key), gen_id=str(val))\n",
    "\n",
    "            query = 'MATCH (g:Genre {id: $gen_id}), (m:Movie {id: $movie_id}) CREATE (g)-[:GENRE_INCLUDES]->(m)'\n",
    "            graph.run(query, movie_id=str(key), gen_id=str(val))\n",
    "        \n",
    "connectMovieGenre(movies_gen)\n",
    "\n",
    "# Verification\n",
    "query = \"\"\"MATCH (m:Movie)-[r:GENRE_IS]->(g:Genre)\n",
    "RETURN COUNT(r) AS relationship_count;\"\"\"\n",
    "print(graph.run(query))\n",
    "\n",
    "query = \"\"\"MATCH (g:Genre)-[r:GENRE_INCLUDES]->(m:Movie)\n",
    "RETURN COUNT(r) AS relationship_count;\"\"\"\n",
    "print(graph.run(query))"
   ]
  },
  {
   "cell_type": "code",
   "execution_count": 14,
   "id": "38b05d5b-1aa6-4b49-983e-ee0b45b54f79",
   "metadata": {
    "tags": []
   },
   "outputs": [
    {
     "name": "stdout",
     "output_type": "stream",
     "text": [
      " relationship_count \n",
      "--------------------\n",
      "               3650 \n",
      "\n",
      " relationship_count \n",
      "--------------------\n",
      "               3650 \n",
      "\n"
     ]
    }
   ],
   "source": [
    "# Add bidirectional relationships between movies and years to the graph\n",
    "def connectMovieYear(movies_year):\n",
    "    for key, val in movies_year.items():\n",
    "        if int(key) in preprocessed_data[\"smap\"]:\n",
    "            key = preprocessed_data[\"smap\"][int(key)]\n",
    "            \n",
    "            query = 'MATCH (m:Movie {id: $movie_id}), (y:Year {id: $year_id}) CREATE (m)-[:RELEASED_YEAR_IS]->(y)'\n",
    "            graph.run(query, movie_id=str(key), year_id=str(val))\n",
    "\n",
    "            query = 'MATCH (y:Year {id: $year_id}), (m:Movie {id: $movie_id}) CREATE (y)-[:YEAR_INCLUDES]->(m)'\n",
    "            graph.run(query, movie_id=str(key), year_id=str(val))\n",
    "        \n",
    "connectMovieYear(movies_year)\n",
    "\n",
    "# Verification\n",
    "query = \"\"\"MATCH (m:Movie)-[r:RELEASED_YEAR_IS]->(y:Year)\n",
    "RETURN COUNT(r) AS relationship_count;\"\"\"\n",
    "print(graph.run(query))\n",
    "\n",
    "query = \"\"\"MATCH (y:Year)-[r:YEAR_INCLUDES]->(m:Movie)\n",
    "RETURN COUNT(r) AS relationship_count;\"\"\"\n",
    "print(graph.run(query))"
   ]
  },
  {
   "cell_type": "code",
   "execution_count": 15,
   "id": "b441cd4a-8f26-4ff7-a3d3-6a41ebc27110",
   "metadata": {},
   "outputs": [
    {
     "name": "stdout",
     "output_type": "stream",
     "text": [
      "(100836, 4)\n",
      "1000\n",
      "2000\n",
      "3000\n",
      "4000\n",
      "5000\n",
      "6000\n",
      "7000\n",
      "8000\n",
      "9000\n",
      "10000\n",
      "11000\n",
      "12000\n",
      "13000\n",
      "15000\n",
      "16000\n",
      "17000\n",
      "18000\n",
      "19000\n",
      "20000\n",
      "21000\n",
      "22000\n",
      "24000\n",
      "25000\n",
      "26000\n",
      "28000\n",
      "29000\n",
      "30000\n",
      "31000\n",
      "32000\n",
      "33000\n",
      "34000\n",
      "35000\n",
      "36000\n",
      "37000\n",
      "38000\n",
      "39000\n",
      "40000\n",
      "41000\n",
      "42000\n",
      "43000\n",
      "44000\n",
      "45000\n",
      "46000\n",
      "47000\n",
      "48000\n",
      "49000\n",
      "50000\n",
      "51000\n",
      "53000\n",
      "54000\n",
      "55000\n",
      "56000\n",
      "57000\n",
      "58000\n",
      "59000\n",
      "61000\n",
      "63000\n",
      "64000\n",
      "65000\n",
      "66000\n",
      "67000\n",
      "71000\n",
      "72000\n",
      "73000\n",
      "74000\n",
      "76000\n",
      "78000\n",
      "79000\n",
      "80000\n",
      "81000\n",
      "82000\n",
      "83000\n",
      "84000\n",
      "85000\n",
      "86000\n",
      "87000\n",
      "88000\n",
      "89000\n",
      "90000\n",
      "91000\n",
      "92000\n",
      "93000\n",
      "95000\n",
      "96000\n",
      "98000\n",
      "99000\n",
      " relationship_count \n",
      "--------------------\n",
      "              90274 \n",
      "\n"
     ]
    }
   ],
   "source": [
    "# Add rating relationships between users and movies to the graph\n",
    "print(ratings_df.shape)\n",
    "\n",
    "for index, row in ratings_df.iterrows():\n",
    "    if int(row[\"userId\"]) in preprocessed_data[\"umap\"] and int(row[\"movieId\"]) in preprocessed_data[\"smap\"]:\n",
    "        user_id = preprocessed_data[\"umap\"][int(row[\"userId\"])]\n",
    "        movie_id = preprocessed_data[\"smap\"][int(row[\"movieId\"])]\n",
    "        rate = row[\"rating\"]\n",
    "        time = row[\"timestamp\"]\n",
    "\n",
    "        query = 'MATCH (u:User {id: $user_id}), (m:Movie {id: $movie_id}) CREATE (u)-[:RATED { rating: $rating, timestamp: $timestamp } ]->(m)'\n",
    "        graph.run(query, user_id=str(user_id), movie_id=str(movie_id), rating=rate, timestamp=time)\n",
    "\n",
    "        if index % 1000 == 0:\n",
    "            print(index)\n",
    "    \n",
    "# Verification\n",
    "query = \"\"\"MATCH (u:User)-[r:RATED]->(m:Movie)\n",
    "RETURN COUNT(r) AS relationship_count;\"\"\"\n",
    "print(graph.run(query))"
   ]
  },
  {
   "cell_type": "code",
   "execution_count": 16,
   "id": "7b59cd64-2445-42ac-a06e-e23b011d2bc1",
   "metadata": {
    "tags": []
   },
   "outputs": [
    {
     "name": "stdout",
     "output_type": "stream",
     "text": [
      "(8269, 3)\n"
     ]
    }
   ],
   "source": [
    "# Load movies metadata, actors and directors\n",
    "movies_info_df = pd.read_csv(\"./ml-latest-small/movies_metadata.csv\")\n",
    "movies_info_df = movies_info_df[[\"movieId\", \"directors\", \"actors\"]]\n",
    "print(movies_info_df.shape)"
   ]
  },
  {
   "cell_type": "code",
   "execution_count": 17,
   "id": "2ae15aa3-a2bf-434d-97d3-cb9695157f76",
   "metadata": {},
   "outputs": [
    {
     "name": "stdout",
     "output_type": "stream",
     "text": [
      "0\n",
      "1000\n",
      "2000\n",
      "4000\n",
      "8000\n",
      " relationship_count \n",
      "--------------------\n",
      "               3344 \n",
      "\n",
      " relationship_count \n",
      "--------------------\n",
      "               3344 \n",
      "\n",
      " relationship_count \n",
      "--------------------\n",
      "               9220 \n",
      "\n",
      " relationship_count \n",
      "--------------------\n",
      "               9220 \n",
      "\n"
     ]
    }
   ],
   "source": [
    "# Add bidirectional relationships between movies, actors and directors to the graph\n",
    "for index, row in movies_info_df.iterrows():\n",
    "    if int(row[\"movieId\"]) in preprocessed_data[\"smap\"]:\n",
    "        movie_id = str(preprocessed_data[\"smap\"][int(row[\"movieId\"])])\n",
    "    \n",
    "        if not isinstance(row[\"directors\"], float):\n",
    "            dirs = row[\"directors\"].split(\"|\")\n",
    "\n",
    "            for dir in dirs:\n",
    "                dir_n = Node(\"Dir\", id=str(dir))\n",
    "                graph.merge(dir_n, \"Dir\", \"id\")\n",
    "\n",
    "                query = 'MATCH (m:Movie {id: $movie_id}), (d:Dir {id: $dir_id}) CREATE (m)-[r:DIRECTED_BY]->(d)'\n",
    "                graph.run(query, movie_id=movie_id, dir_id=str(dir))\n",
    "\n",
    "                query = 'MATCH (d:Dir {id: $dir_id}), (m:Movie {id: $movie_id}) CREATE (d)-[r:IS_THE_DIRECTOR_OF]->(m)'\n",
    "                graph.run(query, movie_id=movie_id, dir_id=str(dir))\n",
    "\n",
    "        if not isinstance(row[\"actors\"], float):\n",
    "            acts = row[\"actors\"].split(\"|\")\n",
    "\n",
    "            for act in acts:\n",
    "                act_n = Node(\"Act\", id=str(act))\n",
    "                graph.merge(act_n, \"Act\", \"id\")\n",
    "\n",
    "                query = 'MATCH (m:Movie {id: $movie_id}), (a:Act {id: $act_id}) CREATE (m)-[r:HAS_ACTOR]->(a)'\n",
    "                graph.run(query, movie_id=movie_id, act_id=str(act))\n",
    "\n",
    "                query = 'MATCH (a:Act {id: $act_id}), (m:Movie {id: $movie_id}) CREATE (a)-[r:ACTED_IN]->(m)'\n",
    "                graph.run(query, movie_id=movie_id, act_id=str(act))\n",
    "\n",
    "        if index % 1000 == 0:\n",
    "            print(index)\n",
    "\n",
    "# Verification\n",
    "query = \"\"\"MATCH (m:Movie)-[r:DIRECTED_BY]->(d:Dir)\n",
    "RETURN COUNT(r) AS relationship_count;\"\"\"\n",
    "print(graph.run(query))\n",
    "\n",
    "query = \"\"\"MATCH (d:Dir)-[r:IS_THE_DIRECTOR_OF]->(m:Movie)\n",
    "RETURN COUNT(r) AS relationship_count;\"\"\"\n",
    "print(graph.run(query))\n",
    "\n",
    "query = \"\"\"MATCH (m:Movie)-[r:HAS_ACTOR]->(a:Act)\n",
    "RETURN COUNT(r) AS relationship_count;\"\"\"\n",
    "print(graph.run(query))\n",
    "\n",
    "query = \"\"\"MATCH (a:Act)-[r:ACTED_IN]->(m:Movie)\n",
    "RETURN COUNT(r) AS relationship_count;\"\"\"\n",
    "print(graph.run(query))"
   ]
  }
 ],
 "metadata": {
  "availableInstances": [
   {
    "_defaultOrder": 0,
    "_isFastLaunch": true,
    "category": "General purpose",
    "gpuNum": 0,
    "hideHardwareSpecs": false,
    "memoryGiB": 4,
    "name": "ml.t3.medium",
    "vcpuNum": 2
   },
   {
    "_defaultOrder": 1,
    "_isFastLaunch": false,
    "category": "General purpose",
    "gpuNum": 0,
    "hideHardwareSpecs": false,
    "memoryGiB": 8,
    "name": "ml.t3.large",
    "vcpuNum": 2
   },
   {
    "_defaultOrder": 2,
    "_isFastLaunch": false,
    "category": "General purpose",
    "gpuNum": 0,
    "hideHardwareSpecs": false,
    "memoryGiB": 16,
    "name": "ml.t3.xlarge",
    "vcpuNum": 4
   },
   {
    "_defaultOrder": 3,
    "_isFastLaunch": false,
    "category": "General purpose",
    "gpuNum": 0,
    "hideHardwareSpecs": false,
    "memoryGiB": 32,
    "name": "ml.t3.2xlarge",
    "vcpuNum": 8
   },
   {
    "_defaultOrder": 4,
    "_isFastLaunch": true,
    "category": "General purpose",
    "gpuNum": 0,
    "hideHardwareSpecs": false,
    "memoryGiB": 8,
    "name": "ml.m5.large",
    "vcpuNum": 2
   },
   {
    "_defaultOrder": 5,
    "_isFastLaunch": false,
    "category": "General purpose",
    "gpuNum": 0,
    "hideHardwareSpecs": false,
    "memoryGiB": 16,
    "name": "ml.m5.xlarge",
    "vcpuNum": 4
   },
   {
    "_defaultOrder": 6,
    "_isFastLaunch": false,
    "category": "General purpose",
    "gpuNum": 0,
    "hideHardwareSpecs": false,
    "memoryGiB": 32,
    "name": "ml.m5.2xlarge",
    "vcpuNum": 8
   },
   {
    "_defaultOrder": 7,
    "_isFastLaunch": false,
    "category": "General purpose",
    "gpuNum": 0,
    "hideHardwareSpecs": false,
    "memoryGiB": 64,
    "name": "ml.m5.4xlarge",
    "vcpuNum": 16
   },
   {
    "_defaultOrder": 8,
    "_isFastLaunch": false,
    "category": "General purpose",
    "gpuNum": 0,
    "hideHardwareSpecs": false,
    "memoryGiB": 128,
    "name": "ml.m5.8xlarge",
    "vcpuNum": 32
   },
   {
    "_defaultOrder": 9,
    "_isFastLaunch": false,
    "category": "General purpose",
    "gpuNum": 0,
    "hideHardwareSpecs": false,
    "memoryGiB": 192,
    "name": "ml.m5.12xlarge",
    "vcpuNum": 48
   },
   {
    "_defaultOrder": 10,
    "_isFastLaunch": false,
    "category": "General purpose",
    "gpuNum": 0,
    "hideHardwareSpecs": false,
    "memoryGiB": 256,
    "name": "ml.m5.16xlarge",
    "vcpuNum": 64
   },
   {
    "_defaultOrder": 11,
    "_isFastLaunch": false,
    "category": "General purpose",
    "gpuNum": 0,
    "hideHardwareSpecs": false,
    "memoryGiB": 384,
    "name": "ml.m5.24xlarge",
    "vcpuNum": 96
   },
   {
    "_defaultOrder": 12,
    "_isFastLaunch": false,
    "category": "General purpose",
    "gpuNum": 0,
    "hideHardwareSpecs": false,
    "memoryGiB": 8,
    "name": "ml.m5d.large",
    "vcpuNum": 2
   },
   {
    "_defaultOrder": 13,
    "_isFastLaunch": false,
    "category": "General purpose",
    "gpuNum": 0,
    "hideHardwareSpecs": false,
    "memoryGiB": 16,
    "name": "ml.m5d.xlarge",
    "vcpuNum": 4
   },
   {
    "_defaultOrder": 14,
    "_isFastLaunch": false,
    "category": "General purpose",
    "gpuNum": 0,
    "hideHardwareSpecs": false,
    "memoryGiB": 32,
    "name": "ml.m5d.2xlarge",
    "vcpuNum": 8
   },
   {
    "_defaultOrder": 15,
    "_isFastLaunch": false,
    "category": "General purpose",
    "gpuNum": 0,
    "hideHardwareSpecs": false,
    "memoryGiB": 64,
    "name": "ml.m5d.4xlarge",
    "vcpuNum": 16
   },
   {
    "_defaultOrder": 16,
    "_isFastLaunch": false,
    "category": "General purpose",
    "gpuNum": 0,
    "hideHardwareSpecs": false,
    "memoryGiB": 128,
    "name": "ml.m5d.8xlarge",
    "vcpuNum": 32
   },
   {
    "_defaultOrder": 17,
    "_isFastLaunch": false,
    "category": "General purpose",
    "gpuNum": 0,
    "hideHardwareSpecs": false,
    "memoryGiB": 192,
    "name": "ml.m5d.12xlarge",
    "vcpuNum": 48
   },
   {
    "_defaultOrder": 18,
    "_isFastLaunch": false,
    "category": "General purpose",
    "gpuNum": 0,
    "hideHardwareSpecs": false,
    "memoryGiB": 256,
    "name": "ml.m5d.16xlarge",
    "vcpuNum": 64
   },
   {
    "_defaultOrder": 19,
    "_isFastLaunch": false,
    "category": "General purpose",
    "gpuNum": 0,
    "hideHardwareSpecs": false,
    "memoryGiB": 384,
    "name": "ml.m5d.24xlarge",
    "vcpuNum": 96
   },
   {
    "_defaultOrder": 20,
    "_isFastLaunch": false,
    "category": "General purpose",
    "gpuNum": 0,
    "hideHardwareSpecs": true,
    "memoryGiB": 0,
    "name": "ml.geospatial.interactive",
    "supportedImageNames": [
     "sagemaker-geospatial-v1-0"
    ],
    "vcpuNum": 0
   },
   {
    "_defaultOrder": 21,
    "_isFastLaunch": true,
    "category": "Compute optimized",
    "gpuNum": 0,
    "hideHardwareSpecs": false,
    "memoryGiB": 4,
    "name": "ml.c5.large",
    "vcpuNum": 2
   },
   {
    "_defaultOrder": 22,
    "_isFastLaunch": false,
    "category": "Compute optimized",
    "gpuNum": 0,
    "hideHardwareSpecs": false,
    "memoryGiB": 8,
    "name": "ml.c5.xlarge",
    "vcpuNum": 4
   },
   {
    "_defaultOrder": 23,
    "_isFastLaunch": false,
    "category": "Compute optimized",
    "gpuNum": 0,
    "hideHardwareSpecs": false,
    "memoryGiB": 16,
    "name": "ml.c5.2xlarge",
    "vcpuNum": 8
   },
   {
    "_defaultOrder": 24,
    "_isFastLaunch": false,
    "category": "Compute optimized",
    "gpuNum": 0,
    "hideHardwareSpecs": false,
    "memoryGiB": 32,
    "name": "ml.c5.4xlarge",
    "vcpuNum": 16
   },
   {
    "_defaultOrder": 25,
    "_isFastLaunch": false,
    "category": "Compute optimized",
    "gpuNum": 0,
    "hideHardwareSpecs": false,
    "memoryGiB": 72,
    "name": "ml.c5.9xlarge",
    "vcpuNum": 36
   },
   {
    "_defaultOrder": 26,
    "_isFastLaunch": false,
    "category": "Compute optimized",
    "gpuNum": 0,
    "hideHardwareSpecs": false,
    "memoryGiB": 96,
    "name": "ml.c5.12xlarge",
    "vcpuNum": 48
   },
   {
    "_defaultOrder": 27,
    "_isFastLaunch": false,
    "category": "Compute optimized",
    "gpuNum": 0,
    "hideHardwareSpecs": false,
    "memoryGiB": 144,
    "name": "ml.c5.18xlarge",
    "vcpuNum": 72
   },
   {
    "_defaultOrder": 28,
    "_isFastLaunch": false,
    "category": "Compute optimized",
    "gpuNum": 0,
    "hideHardwareSpecs": false,
    "memoryGiB": 192,
    "name": "ml.c5.24xlarge",
    "vcpuNum": 96
   },
   {
    "_defaultOrder": 29,
    "_isFastLaunch": true,
    "category": "Accelerated computing",
    "gpuNum": 1,
    "hideHardwareSpecs": false,
    "memoryGiB": 16,
    "name": "ml.g4dn.xlarge",
    "vcpuNum": 4
   },
   {
    "_defaultOrder": 30,
    "_isFastLaunch": false,
    "category": "Accelerated computing",
    "gpuNum": 1,
    "hideHardwareSpecs": false,
    "memoryGiB": 32,
    "name": "ml.g4dn.2xlarge",
    "vcpuNum": 8
   },
   {
    "_defaultOrder": 31,
    "_isFastLaunch": false,
    "category": "Accelerated computing",
    "gpuNum": 1,
    "hideHardwareSpecs": false,
    "memoryGiB": 64,
    "name": "ml.g4dn.4xlarge",
    "vcpuNum": 16
   },
   {
    "_defaultOrder": 32,
    "_isFastLaunch": false,
    "category": "Accelerated computing",
    "gpuNum": 1,
    "hideHardwareSpecs": false,
    "memoryGiB": 128,
    "name": "ml.g4dn.8xlarge",
    "vcpuNum": 32
   },
   {
    "_defaultOrder": 33,
    "_isFastLaunch": false,
    "category": "Accelerated computing",
    "gpuNum": 4,
    "hideHardwareSpecs": false,
    "memoryGiB": 192,
    "name": "ml.g4dn.12xlarge",
    "vcpuNum": 48
   },
   {
    "_defaultOrder": 34,
    "_isFastLaunch": false,
    "category": "Accelerated computing",
    "gpuNum": 1,
    "hideHardwareSpecs": false,
    "memoryGiB": 256,
    "name": "ml.g4dn.16xlarge",
    "vcpuNum": 64
   },
   {
    "_defaultOrder": 35,
    "_isFastLaunch": false,
    "category": "Accelerated computing",
    "gpuNum": 1,
    "hideHardwareSpecs": false,
    "memoryGiB": 61,
    "name": "ml.p3.2xlarge",
    "vcpuNum": 8
   },
   {
    "_defaultOrder": 36,
    "_isFastLaunch": false,
    "category": "Accelerated computing",
    "gpuNum": 4,
    "hideHardwareSpecs": false,
    "memoryGiB": 244,
    "name": "ml.p3.8xlarge",
    "vcpuNum": 32
   },
   {
    "_defaultOrder": 37,
    "_isFastLaunch": false,
    "category": "Accelerated computing",
    "gpuNum": 8,
    "hideHardwareSpecs": false,
    "memoryGiB": 488,
    "name": "ml.p3.16xlarge",
    "vcpuNum": 64
   },
   {
    "_defaultOrder": 38,
    "_isFastLaunch": false,
    "category": "Accelerated computing",
    "gpuNum": 8,
    "hideHardwareSpecs": false,
    "memoryGiB": 768,
    "name": "ml.p3dn.24xlarge",
    "vcpuNum": 96
   },
   {
    "_defaultOrder": 39,
    "_isFastLaunch": false,
    "category": "Memory Optimized",
    "gpuNum": 0,
    "hideHardwareSpecs": false,
    "memoryGiB": 16,
    "name": "ml.r5.large",
    "vcpuNum": 2
   },
   {
    "_defaultOrder": 40,
    "_isFastLaunch": false,
    "category": "Memory Optimized",
    "gpuNum": 0,
    "hideHardwareSpecs": false,
    "memoryGiB": 32,
    "name": "ml.r5.xlarge",
    "vcpuNum": 4
   },
   {
    "_defaultOrder": 41,
    "_isFastLaunch": false,
    "category": "Memory Optimized",
    "gpuNum": 0,
    "hideHardwareSpecs": false,
    "memoryGiB": 64,
    "name": "ml.r5.2xlarge",
    "vcpuNum": 8
   },
   {
    "_defaultOrder": 42,
    "_isFastLaunch": false,
    "category": "Memory Optimized",
    "gpuNum": 0,
    "hideHardwareSpecs": false,
    "memoryGiB": 128,
    "name": "ml.r5.4xlarge",
    "vcpuNum": 16
   },
   {
    "_defaultOrder": 43,
    "_isFastLaunch": false,
    "category": "Memory Optimized",
    "gpuNum": 0,
    "hideHardwareSpecs": false,
    "memoryGiB": 256,
    "name": "ml.r5.8xlarge",
    "vcpuNum": 32
   },
   {
    "_defaultOrder": 44,
    "_isFastLaunch": false,
    "category": "Memory Optimized",
    "gpuNum": 0,
    "hideHardwareSpecs": false,
    "memoryGiB": 384,
    "name": "ml.r5.12xlarge",
    "vcpuNum": 48
   },
   {
    "_defaultOrder": 45,
    "_isFastLaunch": false,
    "category": "Memory Optimized",
    "gpuNum": 0,
    "hideHardwareSpecs": false,
    "memoryGiB": 512,
    "name": "ml.r5.16xlarge",
    "vcpuNum": 64
   },
   {
    "_defaultOrder": 46,
    "_isFastLaunch": false,
    "category": "Memory Optimized",
    "gpuNum": 0,
    "hideHardwareSpecs": false,
    "memoryGiB": 768,
    "name": "ml.r5.24xlarge",
    "vcpuNum": 96
   },
   {
    "_defaultOrder": 47,
    "_isFastLaunch": false,
    "category": "Accelerated computing",
    "gpuNum": 1,
    "hideHardwareSpecs": false,
    "memoryGiB": 16,
    "name": "ml.g5.xlarge",
    "vcpuNum": 4
   },
   {
    "_defaultOrder": 48,
    "_isFastLaunch": false,
    "category": "Accelerated computing",
    "gpuNum": 1,
    "hideHardwareSpecs": false,
    "memoryGiB": 32,
    "name": "ml.g5.2xlarge",
    "vcpuNum": 8
   },
   {
    "_defaultOrder": 49,
    "_isFastLaunch": false,
    "category": "Accelerated computing",
    "gpuNum": 1,
    "hideHardwareSpecs": false,
    "memoryGiB": 64,
    "name": "ml.g5.4xlarge",
    "vcpuNum": 16
   },
   {
    "_defaultOrder": 50,
    "_isFastLaunch": false,
    "category": "Accelerated computing",
    "gpuNum": 1,
    "hideHardwareSpecs": false,
    "memoryGiB": 128,
    "name": "ml.g5.8xlarge",
    "vcpuNum": 32
   },
   {
    "_defaultOrder": 51,
    "_isFastLaunch": false,
    "category": "Accelerated computing",
    "gpuNum": 1,
    "hideHardwareSpecs": false,
    "memoryGiB": 256,
    "name": "ml.g5.16xlarge",
    "vcpuNum": 64
   },
   {
    "_defaultOrder": 52,
    "_isFastLaunch": false,
    "category": "Accelerated computing",
    "gpuNum": 4,
    "hideHardwareSpecs": false,
    "memoryGiB": 192,
    "name": "ml.g5.12xlarge",
    "vcpuNum": 48
   },
   {
    "_defaultOrder": 53,
    "_isFastLaunch": false,
    "category": "Accelerated computing",
    "gpuNum": 4,
    "hideHardwareSpecs": false,
    "memoryGiB": 384,
    "name": "ml.g5.24xlarge",
    "vcpuNum": 96
   },
   {
    "_defaultOrder": 54,
    "_isFastLaunch": false,
    "category": "Accelerated computing",
    "gpuNum": 8,
    "hideHardwareSpecs": false,
    "memoryGiB": 768,
    "name": "ml.g5.48xlarge",
    "vcpuNum": 192
   },
   {
    "_defaultOrder": 55,
    "_isFastLaunch": false,
    "category": "Accelerated computing",
    "gpuNum": 8,
    "hideHardwareSpecs": false,
    "memoryGiB": 1152,
    "name": "ml.p4d.24xlarge",
    "vcpuNum": 96
   },
   {
    "_defaultOrder": 56,
    "_isFastLaunch": false,
    "category": "Accelerated computing",
    "gpuNum": 8,
    "hideHardwareSpecs": false,
    "memoryGiB": 1152,
    "name": "ml.p4de.24xlarge",
    "vcpuNum": 96
   },
   {
    "_defaultOrder": 57,
    "_isFastLaunch": false,
    "category": "Accelerated computing",
    "gpuNum": 0,
    "hideHardwareSpecs": false,
    "memoryGiB": 32,
    "name": "ml.trn1.2xlarge",
    "vcpuNum": 8
   },
   {
    "_defaultOrder": 58,
    "_isFastLaunch": false,
    "category": "Accelerated computing",
    "gpuNum": 0,
    "hideHardwareSpecs": false,
    "memoryGiB": 512,
    "name": "ml.trn1.32xlarge",
    "vcpuNum": 128
   },
   {
    "_defaultOrder": 59,
    "_isFastLaunch": false,
    "category": "Accelerated computing",
    "gpuNum": 0,
    "hideHardwareSpecs": false,
    "memoryGiB": 512,
    "name": "ml.trn1n.32xlarge",
    "vcpuNum": 128
   }
  ],
  "kernelspec": {
   "display_name": "Python 3 (ipykernel)",
   "language": "python",
   "name": "python3"
  },
  "language_info": {
   "codemirror_mode": {
    "name": "ipython",
    "version": 3
   },
   "file_extension": ".py",
   "mimetype": "text/x-python",
   "name": "python",
   "nbconvert_exporter": "python",
   "pygments_lexer": "ipython3",
   "version": "3.10.14"
  },
  "lcc_arn": "arn:aws:sagemaker:us-east-1:947495650207:studio-lifecycle-config/install-pip-package-on-kernel"
 },
 "nbformat": 4,
 "nbformat_minor": 5
}
