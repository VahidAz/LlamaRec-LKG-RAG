{
 "cells": [
  {
   "cell_type": "markdown",
   "id": "c1c9f678-2dd5-4d90-b045-8e1a30d5053b",
   "metadata": {},
   "source": [
    "### This notebook is intended to construct a Neo4j (https://neo4j.com/) graph using the Beauty dataset.\n",
    "### Note: The process may take some time to complete."
   ]
  },
  {
   "cell_type": "code",
   "execution_count": 2,
   "id": "3abdccfb-d6d3-4b76-a7c6-c1b61fa7071d",
   "metadata": {
    "tags": []
   },
   "outputs": [],
   "source": [
    "!pip install -q py2neo==2021.2.4"
   ]
  },
  {
   "cell_type": "code",
   "execution_count": 3,
   "id": "0f80754a-17f4-4f98-90a1-55d7f8c6f368",
   "metadata": {
    "tags": []
   },
   "outputs": [],
   "source": [
    "import urllib.request\n",
    "from pathlib import Path\n",
    "import tempfile\n",
    "import shutil\n",
    "import pandas as pd\n",
    "from py2neo import Graph, Node, Relationship\n",
    "import os\n",
    "import gzip\n",
    "import json\n",
    "import pickle"
   ]
  },
  {
   "cell_type": "code",
   "execution_count": 4,
   "id": "459cd8d0-8b5a-46b4-811a-43176e31b5ed",
   "metadata": {
    "tags": []
   },
   "outputs": [],
   "source": [
    "# Replace with your actual Neo4j connection details\n",
    "uri = \"YOUR_URI\" \n",
    "username = \"neo4j\"\n",
    "password = \"YOUR_PASSWORD\"\n",
    "\n",
    "graph = Graph(uri, auth=(username, password))"
   ]
  },
  {
   "cell_type": "code",
   "execution_count": 9,
   "id": "f016beaa-0b90-4755-9a64-098c44c5fdc2",
   "metadata": {
    "tags": []
   },
   "outputs": [],
   "source": [
    "# Download \"beauty\"\n",
    "urls = ['http://snap.stanford.edu/data/amazon/productGraph/categoryFiles/ratings_Beauty.csv',\n",
    "        'http://snap.stanford.edu/data/amazon/productGraph/categoryFiles/meta_Beauty.json.gz']\n",
    "\n",
    "folder_path = \"./beauty/\"\n",
    "os.makedirs(folder_path, exist_ok=True)\n",
    "\n",
    "for idx, url in enumerate(urls):\n",
    "    tmproot = Path(tempfile.mkdtemp())\n",
    "    tmpfile = tmproot.joinpath('file')\n",
    "    urllib.request.urlretrieve(url, tmpfile)\n",
    "    shutil.move(tmpfile, folder_path + url.split(\"/\")[-1])"
   ]
  },
  {
   "cell_type": "code",
   "execution_count": 10,
   "id": "4997e60d-e7eb-4bca-bd4d-6209a28f1d68",
   "metadata": {
    "tags": []
   },
   "outputs": [
    {
     "name": "stdout",
     "output_type": "stream",
     "text": [
      "22332\n",
      "12086\n"
     ]
    }
   ],
   "source": [
    "# Load the preprocessed data\n",
    "with open(\"./LlamaRec/data/preprocessed/beauty_min_rating0-min_uc5-min_sc5/dataset.pkl\", \"rb\") as fin:\n",
    "    preprocessed_data = pickle.load(fin)\n",
    "    \n",
    "print(len(preprocessed_data[\"umap\"]))\n",
    "print(len(preprocessed_data[\"smap\"]))\n",
    "# dict_keys(['train', 'val', 'test', 'meta', 'umap', 'smap'])"
   ]
  },
  {
   "cell_type": "code",
   "execution_count": 11,
   "id": "2f9ad029-7ba8-4f24-a455-e0e67d28385a",
   "metadata": {
    "tags": []
   },
   "outputs": [
    {
     "name": "stdout",
     "output_type": "stream",
     "text": [
      "(2023070, 4)\n",
      "1210271\n",
      "249274\n",
      "2023070\n",
      "(198215, 5)\n",
      "22332\n",
      "12086\n",
      "198215\n"
     ]
    }
   ],
   "source": [
    "# Load the ratings\n",
    "ratings_df = pd.read_csv(folder_path + \"ratings_Beauty.csv\", header=None)\n",
    "ratings_df.columns = ['uid', 'sid', 'rating', 'timestamp']\n",
    "\n",
    "print(ratings_df.shape)\n",
    "print(len(set(ratings_df['uid'].tolist())))\n",
    "print(len(set(ratings_df['sid'].tolist())))\n",
    "print(len(ratings_df['rating'].tolist()))\n",
    "\n",
    "filtered_df = ratings_df[ratings_df['uid'].isin(preprocessed_data['umap'])]\n",
    "filtered_df = filtered_df[filtered_df['sid'].isin(preprocessed_data['smap'])]\n",
    "filtered_df = filtered_df.reset_index()\n",
    "\n",
    "print(filtered_df.shape)\n",
    "print(len(set(filtered_df['uid'].tolist())))\n",
    "print(len(set(filtered_df['sid'].tolist())))\n",
    "print(len(filtered_df['rating'].tolist()))"
   ]
  },
  {
   "cell_type": "code",
   "execution_count": 12,
   "id": "61bb82a4-ffb7-4038-b0e6-516c846603b3",
   "metadata": {
    "tags": []
   },
   "outputs": [
    {
     "name": "stdout",
     "output_type": "stream",
     "text": [
      " node_count \n",
      "------------\n",
      "      22332 \n",
      "\n",
      " node_count \n",
      "------------\n",
      "      12086 \n",
      "\n",
      " relationship_count \n",
      "--------------------\n",
      "             198215 \n",
      "\n"
     ]
    }
   ],
   "source": [
    "# Verification\n",
    "query = \"\"\"MATCH (n:User)\n",
    "RETURN COUNT(n) AS node_count\"\"\"\n",
    "print(graph.run(query))\n",
    "\n",
    "query = \"\"\"MATCH (n:Item)\n",
    "RETURN COUNT(n) AS node_count\"\"\"\n",
    "print(graph.run(query))\n",
    "\n",
    "query = \"\"\"MATCH (u:User)-[r:RATED]->(i:Item)\n",
    "RETURN COUNT(r) AS relationship_count;\"\"\"\n",
    "print(graph.run(query))"
   ]
  },
  {
   "cell_type": "code",
   "execution_count": 18,
   "id": "e8e37f51-8ff8-4cc5-8b1d-7268a6561f1d",
   "metadata": {
    "tags": []
   },
   "outputs": [],
   "source": [
    "# Add rating relationships between users and items to the graph\n",
    "for index, row in filtered_df.iterrows():    \n",
    "    if row[\"uid\"] in preprocessed_data[\"umap\"] and row[\"sid\"] in preprocessed_data[\"smap\"]:\n",
    "        user_id = preprocessed_data[\"umap\"][row[\"uid\"]]\n",
    "        item_id = preprocessed_data[\"smap\"][row[\"sid\"]]\n",
    "        rate = row[\"rating\"]\n",
    "        time = row[\"timestamp\"]\n",
    "    \n",
    "        user_n = Node(\"User\", id=str(user_id))\n",
    "        graph.merge(user_n, \"User\", \"id\")\n",
    "\n",
    "        item_n = Node(\"Item\", id=str(item_id))\n",
    "        graph.merge(item_n, \"Item\", \"id\")\n",
    "\n",
    "        query = 'MATCH (u:User {id: $user_id}), (i:Item {id: $item_id}) CREATE (u)-[:RATED { rating: $rating, timestamp: $timestamp } ]->(i)'\n",
    "        graph.run(query, user_id=str(user_id), item_id=str(item_id), rating=rate, timestamp=time)\n",
    "        \n",
    "    if index%1000==0:\n",
    "        print(index)\n",
    "    \n",
    "# Verification\n",
    "query = \"\"\"MATCH (n:User)\n",
    "RETURN COUNT(n) AS node_count\"\"\"\n",
    "print(graph.run(query))\n",
    "\n",
    "query = \"\"\"MATCH (n:Item)\n",
    "RETURN COUNT(n) AS node_count\"\"\"\n",
    "print(graph.run(query))\n",
    "\n",
    "query = \"\"\"MATCH (u:User)-[r:RATED]->(i:Item)\n",
    "RETURN COUNT(r) AS relationship_count;\"\"\"\n",
    "print(graph.run(query))"
   ]
  },
  {
   "cell_type": "code",
   "execution_count": 13,
   "id": "5e941287-ef19-4b61-922d-fdf7118c7ef9",
   "metadata": {},
   "outputs": [],
   "source": [
    "# Add bidirectional relationships between items and brands to the graph\n",
    "def connectBrand(item_id, brand_name):\n",
    "    brand_n = Node(\"Brand\", id=str(brand_name))\n",
    "    graph.merge(brand_n, \"Brand\", \"id\")\n",
    "    \n",
    "    query = 'MATCH (i:Item {id: $item_id}), (b:Brand {id: $brand_id}) CREATE (i)-[:BRAND_IS]->(b)'\n",
    "    graph.run(query, item_id=str(item_id), brand_id=str(brand_name))\n",
    "\n",
    "    query = 'MATCH (b:Brand {id: $brand_id}), (i:Item {id: $item_id}) CREATE (b)-[:BRAND_INCLUDES]->(i)'\n",
    "    graph.run(query, brand_id=str(brand_name), item_id=str(item_id))\n",
    "\n",
    "\n",
    "# Add bidirectional relationships between items and categories to the graph\n",
    "def connectCats(item_id, cat_name):\n",
    "    cat_n = Node(\"Category\", id=str(cat_name))\n",
    "    graph.merge(cat_n, \"Category\", \"id\")\n",
    "\n",
    "    query = 'MATCH (i:Item {id: $item_id}), (c:Category {id: $cat_id}) CREATE (i)-[:CATEGORY_IS]->(c)'\n",
    "    graph.run(query, item_id=str(item_id), cat_id=str(cat_name))\n",
    "\n",
    "    query = 'MATCH (c:Category {id: $cat_id}), (i:Item {id: $item_id}) CREATE (c)-[:CATEGORY_INCLUDES]->(i)'\n",
    "    graph.run(query, cat_id=str(cat_name), item_id=str(item_id))\n",
    "\n",
    "\n",
    "# Add unidirectional relationships between an item and boughts to the graph\n",
    "def connectAlsoBought(item_id, also_bought):\n",
    "    for abou in also_bought:\n",
    "        if abou in preprocessed_data[\"smap\"]:\n",
    "            abou = preprocessed_data[\"smap\"][abou]\n",
    "            query = 'MATCH (i1:Item {id: $item1_id}), (i2:Item {id: $item2_id}) CREATE (i1)-[:ALSO_BOUGHT]->(i2)'\n",
    "            graph.run(query, item1_id=str(item_id), item2_id=str(abou))\n",
    "\n",
    "\n",
    "# Add unidirectional relationships between an item and also_viewed to the graph\n",
    "def connectAlsoViewed(item_id, also_viewed):\n",
    "    for aw in also_viewed:\n",
    "        if aw in preprocessed_data[\"smap\"]:\n",
    "            aw = preprocessed_data[\"smap\"][aw]\n",
    "            query = 'MATCH (i1:Item {id: $item1_id}), (i2:Item {id: $item2_id}) CREATE (i1)-[:ALSO_VIEWED]->(i2)'\n",
    "            graph.run(query, item1_id=str(item_id), item2_id=str(aw))\n",
    "\n",
    "\n",
    "# Add unidirectional relationships between an item and bought_together to the graph\n",
    "def connectBoughtTogether(item_id, bought_together):\n",
    "    for bt in bought_together:\n",
    "        if bt in preprocessed_data[\"smap\"]:\n",
    "            bt = preprocessed_data[\"smap\"][bt]\n",
    "            query = 'MATCH (i1:Item {id: $item1_id}), (i2:Item {id: $item2_id}) CREATE (i1)-[:BOUGHT_TOGETHER]->(i2)'\n",
    "            graph.run(query, item1_id=str(item_id), item2_id=str(bt))\n",
    "\n",
    "\n",
    "# Add unidirectional relationships between an item and buy_after_viewing to the graph\n",
    "def connectBuyAfterViweing(item_id, buy_after_viewing):\n",
    "    for bav in buy_after_viewing:\n",
    "        if bav in preprocessed_data[\"smap\"]:\n",
    "            bav = preprocessed_data[\"smap\"][bav]\n",
    "            query = 'MATCH (i1:Item {id: $item1_id}), (i2:Item {id: $item2_id}) CREATE (i1)-[:BUY_AFTER_VIEWING]->(i2)'\n",
    "            graph.run(query, item1_id=str(item_id), item2_id=str(bav))"
   ]
  },
  {
   "cell_type": "code",
   "execution_count": null,
   "id": "563317e7-4e02-4e75-8683-42944aaafa6d",
   "metadata": {
    "tags": []
   },
   "outputs": [
    {
     "name": "stdout",
     "output_type": "stream",
     "text": [
      "0\n",
      "1000\n",
      "2000\n",
      "3000\n",
      "4000\n",
      "5000\n",
      "6000\n",
      "7000\n",
      "8000\n",
      "9000\n",
      "10000\n",
      "11000\n",
      "12000\n"
     ]
    }
   ],
   "source": [
    "# Add all other relationships between items to the graph\n",
    "metadata_path = folder_path + \"meta_Beauty.json.gz\"\n",
    "\n",
    "count = 0\n",
    "\n",
    "with gzip.open(metadata_path, 'rb') as f:\n",
    "    for line in f:\n",
    "        line = eval(line)\n",
    "        \n",
    "        id = line['asin'].strip()\n",
    "        if id in preprocessed_data[\"smap\"]:\n",
    "            id = preprocessed_data[\"smap\"][id]\n",
    "            \n",
    "            if 'brand' in line and len(line['brand']) > 0:\n",
    "                brand = line['brand'].strip()\n",
    "                connectBrand(id, brand)\n",
    "                \n",
    "            if 'categories' in line and len(line['categories']) > 0:\n",
    "                cats = line['categories']\n",
    "                connectCats(id, \"|\".join(cats[0]))\n",
    "                \n",
    "            if 'related' in line and len(line['related']) > 0:\n",
    "                rels = line['related']\n",
    "                \n",
    "                if \"also_bought\" in rels:\n",
    "                    also_bought = rels[\"also_bought\"]\n",
    "                    connectAlsoBought(id, also_bought)\n",
    "                    \n",
    "                if \"also_viewed\" in rels:\n",
    "                    also_viewed = rels[\"also_viewed\"]\n",
    "                    connectAlsoViewed(id, also_viewed)\n",
    "                    \n",
    "                if \"bought_together\" in rels:\n",
    "                    bought_together = rels[\"bought_together\"]\n",
    "                    connectBoughtTogether(id, bought_together)\n",
    "                    \n",
    "                # if \"buy_after_viewing\" in rels:\n",
    "                #     buy_after_viewing = rels[\"buy_after_viewing\"]\n",
    "                #     connectBuyAfterViweing(id, buy_after_viewing)\n",
    "                    \n",
    "            if count % 1000==0:\n",
    "                print(count)\n",
    "            count += 1"
   ]
  },
  {
   "cell_type": "code",
   "execution_count": null,
   "id": "752ecdcf-f07e-4443-9dfc-027c36c66b19",
   "metadata": {},
   "outputs": [
    {
     "name": "stdout",
     "output_type": "stream",
     "text": [
      " relationship_count \n",
      "--------------------\n",
      "               9995 \n",
      "\n",
      " relationship_count \n",
      "--------------------\n",
      "               9995 \n",
      "\n",
      " relationship_count \n",
      "--------------------\n",
      "              12086 \n",
      "\n",
      " relationship_count \n",
      "--------------------\n",
      "              12086 \n",
      "\n",
      " relationship_count \n",
      "--------------------\n",
      "             239078 \n",
      "\n",
      " relationship_count \n",
      "--------------------\n",
      "             155103 \n",
      "\n",
      " relationship_count \n",
      "--------------------\n",
      "               9009 \n",
      "\n",
      " relationship_count \n",
      "--------------------\n",
      "                  0 \n",
      "\n"
     ]
    }
   ],
   "source": [
    "# Verification\n",
    "query = \"\"\"MATCH (i:Item)-[r:BRAND_IS]->(b:Brand)\n",
    "RETURN COUNT(r) AS relationship_count;\"\"\"\n",
    "print(graph.run(query))\n",
    "\n",
    "query = \"\"\"MATCH (b:Brand)-[r:BRAND_INCLUDES]->(i:Item)\n",
    "RETURN COUNT(r) AS relationship_count;\"\"\"\n",
    "print(graph.run(query))\n",
    "\n",
    "query = \"\"\"MATCH (i:Item)-[r:CATEGORY_IS]->(c:Category)\n",
    "RETURN COUNT(r) AS relationship_count;\"\"\"\n",
    "print(graph.run(query))\n",
    "\n",
    "query = \"\"\"MATCH (c:Category)-[r:CATEGORY_INCLUDES]->(i:Item)\n",
    "RETURN COUNT(r) AS relationship_count;\"\"\"\n",
    "print(graph.run(query))\n",
    "\n",
    "query = \"\"\"MATCH (i1:Item)-[r:ALSO_BOUGHT]->(i2:Item)\n",
    "RETURN COUNT(r) AS relationship_count;\"\"\"\n",
    "print(graph.run(query))\n",
    "\n",
    "query = \"\"\"MATCH (i1:Item)-[r:ALSO_VIEWED]->(i2:Item)\n",
    "RETURN COUNT(r) AS relationship_count;\"\"\"\n",
    "print(graph.run(query))\n",
    "\n",
    "query = \"\"\"MATCH (i1:Item)-[r:BOUGHT_TOGETHER]->(i2:Item)\n",
    "RETURN COUNT(r) AS relationship_count;\"\"\"\n",
    "print(graph.run(query))\n",
    "\n",
    "query = \"\"\"MATCH (i1:Item)-[r:BUY_AFTER_VIEWING]->(i2:Item)\n",
    "RETURN COUNT(r) AS relationship_count;\"\"\"\n",
    "print(graph.run(query))"
   ]
  },
  {
   "cell_type": "code",
   "execution_count": 5,
   "id": "d1064409-62ee-4f12-8aa0-69296f0d398f",
   "metadata": {},
   "outputs": [
    {
     "name": "stdout",
     "output_type": "stream",
     "text": [
      "(No data)\n"
     ]
    }
   ],
   "source": [
    "# Retaining only the most recent relationship between nodes based on timestamp\n",
    "query = \"\"\"MATCH (a)-[r]->(b)\n",
    "WITH a, b, r\n",
    "ORDER BY r.timestamp DESC\n",
    "WITH a, b, COLLECT(r) AS rels\n",
    "WHERE SIZE(rels) > 1\n",
    "FOREACH (rel IN rels[1..] | DELETE rel)\n",
    "\"\"\"\n",
    "\n",
    "print(graph.run(query))"
   ]
  }
 ],
 "metadata": {
  "availableInstances": [
   {
    "_defaultOrder": 0,
    "_isFastLaunch": true,
    "category": "General purpose",
    "gpuNum": 0,
    "hideHardwareSpecs": false,
    "memoryGiB": 4,
    "name": "ml.t3.medium",
    "vcpuNum": 2
   },
   {
    "_defaultOrder": 1,
    "_isFastLaunch": false,
    "category": "General purpose",
    "gpuNum": 0,
    "hideHardwareSpecs": false,
    "memoryGiB": 8,
    "name": "ml.t3.large",
    "vcpuNum": 2
   },
   {
    "_defaultOrder": 2,
    "_isFastLaunch": false,
    "category": "General purpose",
    "gpuNum": 0,
    "hideHardwareSpecs": false,
    "memoryGiB": 16,
    "name": "ml.t3.xlarge",
    "vcpuNum": 4
   },
   {
    "_defaultOrder": 3,
    "_isFastLaunch": false,
    "category": "General purpose",
    "gpuNum": 0,
    "hideHardwareSpecs": false,
    "memoryGiB": 32,
    "name": "ml.t3.2xlarge",
    "vcpuNum": 8
   },
   {
    "_defaultOrder": 4,
    "_isFastLaunch": true,
    "category": "General purpose",
    "gpuNum": 0,
    "hideHardwareSpecs": false,
    "memoryGiB": 8,
    "name": "ml.m5.large",
    "vcpuNum": 2
   },
   {
    "_defaultOrder": 5,
    "_isFastLaunch": false,
    "category": "General purpose",
    "gpuNum": 0,
    "hideHardwareSpecs": false,
    "memoryGiB": 16,
    "name": "ml.m5.xlarge",
    "vcpuNum": 4
   },
   {
    "_defaultOrder": 6,
    "_isFastLaunch": false,
    "category": "General purpose",
    "gpuNum": 0,
    "hideHardwareSpecs": false,
    "memoryGiB": 32,
    "name": "ml.m5.2xlarge",
    "vcpuNum": 8
   },
   {
    "_defaultOrder": 7,
    "_isFastLaunch": false,
    "category": "General purpose",
    "gpuNum": 0,
    "hideHardwareSpecs": false,
    "memoryGiB": 64,
    "name": "ml.m5.4xlarge",
    "vcpuNum": 16
   },
   {
    "_defaultOrder": 8,
    "_isFastLaunch": false,
    "category": "General purpose",
    "gpuNum": 0,
    "hideHardwareSpecs": false,
    "memoryGiB": 128,
    "name": "ml.m5.8xlarge",
    "vcpuNum": 32
   },
   {
    "_defaultOrder": 9,
    "_isFastLaunch": false,
    "category": "General purpose",
    "gpuNum": 0,
    "hideHardwareSpecs": false,
    "memoryGiB": 192,
    "name": "ml.m5.12xlarge",
    "vcpuNum": 48
   },
   {
    "_defaultOrder": 10,
    "_isFastLaunch": false,
    "category": "General purpose",
    "gpuNum": 0,
    "hideHardwareSpecs": false,
    "memoryGiB": 256,
    "name": "ml.m5.16xlarge",
    "vcpuNum": 64
   },
   {
    "_defaultOrder": 11,
    "_isFastLaunch": false,
    "category": "General purpose",
    "gpuNum": 0,
    "hideHardwareSpecs": false,
    "memoryGiB": 384,
    "name": "ml.m5.24xlarge",
    "vcpuNum": 96
   },
   {
    "_defaultOrder": 12,
    "_isFastLaunch": false,
    "category": "General purpose",
    "gpuNum": 0,
    "hideHardwareSpecs": false,
    "memoryGiB": 8,
    "name": "ml.m5d.large",
    "vcpuNum": 2
   },
   {
    "_defaultOrder": 13,
    "_isFastLaunch": false,
    "category": "General purpose",
    "gpuNum": 0,
    "hideHardwareSpecs": false,
    "memoryGiB": 16,
    "name": "ml.m5d.xlarge",
    "vcpuNum": 4
   },
   {
    "_defaultOrder": 14,
    "_isFastLaunch": false,
    "category": "General purpose",
    "gpuNum": 0,
    "hideHardwareSpecs": false,
    "memoryGiB": 32,
    "name": "ml.m5d.2xlarge",
    "vcpuNum": 8
   },
   {
    "_defaultOrder": 15,
    "_isFastLaunch": false,
    "category": "General purpose",
    "gpuNum": 0,
    "hideHardwareSpecs": false,
    "memoryGiB": 64,
    "name": "ml.m5d.4xlarge",
    "vcpuNum": 16
   },
   {
    "_defaultOrder": 16,
    "_isFastLaunch": false,
    "category": "General purpose",
    "gpuNum": 0,
    "hideHardwareSpecs": false,
    "memoryGiB": 128,
    "name": "ml.m5d.8xlarge",
    "vcpuNum": 32
   },
   {
    "_defaultOrder": 17,
    "_isFastLaunch": false,
    "category": "General purpose",
    "gpuNum": 0,
    "hideHardwareSpecs": false,
    "memoryGiB": 192,
    "name": "ml.m5d.12xlarge",
    "vcpuNum": 48
   },
   {
    "_defaultOrder": 18,
    "_isFastLaunch": false,
    "category": "General purpose",
    "gpuNum": 0,
    "hideHardwareSpecs": false,
    "memoryGiB": 256,
    "name": "ml.m5d.16xlarge",
    "vcpuNum": 64
   },
   {
    "_defaultOrder": 19,
    "_isFastLaunch": false,
    "category": "General purpose",
    "gpuNum": 0,
    "hideHardwareSpecs": false,
    "memoryGiB": 384,
    "name": "ml.m5d.24xlarge",
    "vcpuNum": 96
   },
   {
    "_defaultOrder": 20,
    "_isFastLaunch": false,
    "category": "General purpose",
    "gpuNum": 0,
    "hideHardwareSpecs": true,
    "memoryGiB": 0,
    "name": "ml.geospatial.interactive",
    "supportedImageNames": [
     "sagemaker-geospatial-v1-0"
    ],
    "vcpuNum": 0
   },
   {
    "_defaultOrder": 21,
    "_isFastLaunch": true,
    "category": "Compute optimized",
    "gpuNum": 0,
    "hideHardwareSpecs": false,
    "memoryGiB": 4,
    "name": "ml.c5.large",
    "vcpuNum": 2
   },
   {
    "_defaultOrder": 22,
    "_isFastLaunch": false,
    "category": "Compute optimized",
    "gpuNum": 0,
    "hideHardwareSpecs": false,
    "memoryGiB": 8,
    "name": "ml.c5.xlarge",
    "vcpuNum": 4
   },
   {
    "_defaultOrder": 23,
    "_isFastLaunch": false,
    "category": "Compute optimized",
    "gpuNum": 0,
    "hideHardwareSpecs": false,
    "memoryGiB": 16,
    "name": "ml.c5.2xlarge",
    "vcpuNum": 8
   },
   {
    "_defaultOrder": 24,
    "_isFastLaunch": false,
    "category": "Compute optimized",
    "gpuNum": 0,
    "hideHardwareSpecs": false,
    "memoryGiB": 32,
    "name": "ml.c5.4xlarge",
    "vcpuNum": 16
   },
   {
    "_defaultOrder": 25,
    "_isFastLaunch": false,
    "category": "Compute optimized",
    "gpuNum": 0,
    "hideHardwareSpecs": false,
    "memoryGiB": 72,
    "name": "ml.c5.9xlarge",
    "vcpuNum": 36
   },
   {
    "_defaultOrder": 26,
    "_isFastLaunch": false,
    "category": "Compute optimized",
    "gpuNum": 0,
    "hideHardwareSpecs": false,
    "memoryGiB": 96,
    "name": "ml.c5.12xlarge",
    "vcpuNum": 48
   },
   {
    "_defaultOrder": 27,
    "_isFastLaunch": false,
    "category": "Compute optimized",
    "gpuNum": 0,
    "hideHardwareSpecs": false,
    "memoryGiB": 144,
    "name": "ml.c5.18xlarge",
    "vcpuNum": 72
   },
   {
    "_defaultOrder": 28,
    "_isFastLaunch": false,
    "category": "Compute optimized",
    "gpuNum": 0,
    "hideHardwareSpecs": false,
    "memoryGiB": 192,
    "name": "ml.c5.24xlarge",
    "vcpuNum": 96
   },
   {
    "_defaultOrder": 29,
    "_isFastLaunch": true,
    "category": "Accelerated computing",
    "gpuNum": 1,
    "hideHardwareSpecs": false,
    "memoryGiB": 16,
    "name": "ml.g4dn.xlarge",
    "vcpuNum": 4
   },
   {
    "_defaultOrder": 30,
    "_isFastLaunch": false,
    "category": "Accelerated computing",
    "gpuNum": 1,
    "hideHardwareSpecs": false,
    "memoryGiB": 32,
    "name": "ml.g4dn.2xlarge",
    "vcpuNum": 8
   },
   {
    "_defaultOrder": 31,
    "_isFastLaunch": false,
    "category": "Accelerated computing",
    "gpuNum": 1,
    "hideHardwareSpecs": false,
    "memoryGiB": 64,
    "name": "ml.g4dn.4xlarge",
    "vcpuNum": 16
   },
   {
    "_defaultOrder": 32,
    "_isFastLaunch": false,
    "category": "Accelerated computing",
    "gpuNum": 1,
    "hideHardwareSpecs": false,
    "memoryGiB": 128,
    "name": "ml.g4dn.8xlarge",
    "vcpuNum": 32
   },
   {
    "_defaultOrder": 33,
    "_isFastLaunch": false,
    "category": "Accelerated computing",
    "gpuNum": 4,
    "hideHardwareSpecs": false,
    "memoryGiB": 192,
    "name": "ml.g4dn.12xlarge",
    "vcpuNum": 48
   },
   {
    "_defaultOrder": 34,
    "_isFastLaunch": false,
    "category": "Accelerated computing",
    "gpuNum": 1,
    "hideHardwareSpecs": false,
    "memoryGiB": 256,
    "name": "ml.g4dn.16xlarge",
    "vcpuNum": 64
   },
   {
    "_defaultOrder": 35,
    "_isFastLaunch": false,
    "category": "Accelerated computing",
    "gpuNum": 1,
    "hideHardwareSpecs": false,
    "memoryGiB": 61,
    "name": "ml.p3.2xlarge",
    "vcpuNum": 8
   },
   {
    "_defaultOrder": 36,
    "_isFastLaunch": false,
    "category": "Accelerated computing",
    "gpuNum": 4,
    "hideHardwareSpecs": false,
    "memoryGiB": 244,
    "name": "ml.p3.8xlarge",
    "vcpuNum": 32
   },
   {
    "_defaultOrder": 37,
    "_isFastLaunch": false,
    "category": "Accelerated computing",
    "gpuNum": 8,
    "hideHardwareSpecs": false,
    "memoryGiB": 488,
    "name": "ml.p3.16xlarge",
    "vcpuNum": 64
   },
   {
    "_defaultOrder": 38,
    "_isFastLaunch": false,
    "category": "Accelerated computing",
    "gpuNum": 8,
    "hideHardwareSpecs": false,
    "memoryGiB": 768,
    "name": "ml.p3dn.24xlarge",
    "vcpuNum": 96
   },
   {
    "_defaultOrder": 39,
    "_isFastLaunch": false,
    "category": "Memory Optimized",
    "gpuNum": 0,
    "hideHardwareSpecs": false,
    "memoryGiB": 16,
    "name": "ml.r5.large",
    "vcpuNum": 2
   },
   {
    "_defaultOrder": 40,
    "_isFastLaunch": false,
    "category": "Memory Optimized",
    "gpuNum": 0,
    "hideHardwareSpecs": false,
    "memoryGiB": 32,
    "name": "ml.r5.xlarge",
    "vcpuNum": 4
   },
   {
    "_defaultOrder": 41,
    "_isFastLaunch": false,
    "category": "Memory Optimized",
    "gpuNum": 0,
    "hideHardwareSpecs": false,
    "memoryGiB": 64,
    "name": "ml.r5.2xlarge",
    "vcpuNum": 8
   },
   {
    "_defaultOrder": 42,
    "_isFastLaunch": false,
    "category": "Memory Optimized",
    "gpuNum": 0,
    "hideHardwareSpecs": false,
    "memoryGiB": 128,
    "name": "ml.r5.4xlarge",
    "vcpuNum": 16
   },
   {
    "_defaultOrder": 43,
    "_isFastLaunch": false,
    "category": "Memory Optimized",
    "gpuNum": 0,
    "hideHardwareSpecs": false,
    "memoryGiB": 256,
    "name": "ml.r5.8xlarge",
    "vcpuNum": 32
   },
   {
    "_defaultOrder": 44,
    "_isFastLaunch": false,
    "category": "Memory Optimized",
    "gpuNum": 0,
    "hideHardwareSpecs": false,
    "memoryGiB": 384,
    "name": "ml.r5.12xlarge",
    "vcpuNum": 48
   },
   {
    "_defaultOrder": 45,
    "_isFastLaunch": false,
    "category": "Memory Optimized",
    "gpuNum": 0,
    "hideHardwareSpecs": false,
    "memoryGiB": 512,
    "name": "ml.r5.16xlarge",
    "vcpuNum": 64
   },
   {
    "_defaultOrder": 46,
    "_isFastLaunch": false,
    "category": "Memory Optimized",
    "gpuNum": 0,
    "hideHardwareSpecs": false,
    "memoryGiB": 768,
    "name": "ml.r5.24xlarge",
    "vcpuNum": 96
   },
   {
    "_defaultOrder": 47,
    "_isFastLaunch": false,
    "category": "Accelerated computing",
    "gpuNum": 1,
    "hideHardwareSpecs": false,
    "memoryGiB": 16,
    "name": "ml.g5.xlarge",
    "vcpuNum": 4
   },
   {
    "_defaultOrder": 48,
    "_isFastLaunch": false,
    "category": "Accelerated computing",
    "gpuNum": 1,
    "hideHardwareSpecs": false,
    "memoryGiB": 32,
    "name": "ml.g5.2xlarge",
    "vcpuNum": 8
   },
   {
    "_defaultOrder": 49,
    "_isFastLaunch": false,
    "category": "Accelerated computing",
    "gpuNum": 1,
    "hideHardwareSpecs": false,
    "memoryGiB": 64,
    "name": "ml.g5.4xlarge",
    "vcpuNum": 16
   },
   {
    "_defaultOrder": 50,
    "_isFastLaunch": false,
    "category": "Accelerated computing",
    "gpuNum": 1,
    "hideHardwareSpecs": false,
    "memoryGiB": 128,
    "name": "ml.g5.8xlarge",
    "vcpuNum": 32
   },
   {
    "_defaultOrder": 51,
    "_isFastLaunch": false,
    "category": "Accelerated computing",
    "gpuNum": 1,
    "hideHardwareSpecs": false,
    "memoryGiB": 256,
    "name": "ml.g5.16xlarge",
    "vcpuNum": 64
   },
   {
    "_defaultOrder": 52,
    "_isFastLaunch": false,
    "category": "Accelerated computing",
    "gpuNum": 4,
    "hideHardwareSpecs": false,
    "memoryGiB": 192,
    "name": "ml.g5.12xlarge",
    "vcpuNum": 48
   },
   {
    "_defaultOrder": 53,
    "_isFastLaunch": false,
    "category": "Accelerated computing",
    "gpuNum": 4,
    "hideHardwareSpecs": false,
    "memoryGiB": 384,
    "name": "ml.g5.24xlarge",
    "vcpuNum": 96
   },
   {
    "_defaultOrder": 54,
    "_isFastLaunch": false,
    "category": "Accelerated computing",
    "gpuNum": 8,
    "hideHardwareSpecs": false,
    "memoryGiB": 768,
    "name": "ml.g5.48xlarge",
    "vcpuNum": 192
   },
   {
    "_defaultOrder": 55,
    "_isFastLaunch": false,
    "category": "Accelerated computing",
    "gpuNum": 8,
    "hideHardwareSpecs": false,
    "memoryGiB": 1152,
    "name": "ml.p4d.24xlarge",
    "vcpuNum": 96
   },
   {
    "_defaultOrder": 56,
    "_isFastLaunch": false,
    "category": "Accelerated computing",
    "gpuNum": 8,
    "hideHardwareSpecs": false,
    "memoryGiB": 1152,
    "name": "ml.p4de.24xlarge",
    "vcpuNum": 96
   },
   {
    "_defaultOrder": 57,
    "_isFastLaunch": false,
    "category": "Accelerated computing",
    "gpuNum": 0,
    "hideHardwareSpecs": false,
    "memoryGiB": 32,
    "name": "ml.trn1.2xlarge",
    "vcpuNum": 8
   },
   {
    "_defaultOrder": 58,
    "_isFastLaunch": false,
    "category": "Accelerated computing",
    "gpuNum": 0,
    "hideHardwareSpecs": false,
    "memoryGiB": 512,
    "name": "ml.trn1.32xlarge",
    "vcpuNum": 128
   },
   {
    "_defaultOrder": 59,
    "_isFastLaunch": false,
    "category": "Accelerated computing",
    "gpuNum": 0,
    "hideHardwareSpecs": false,
    "memoryGiB": 512,
    "name": "ml.trn1n.32xlarge",
    "vcpuNum": 128
   }
  ],
  "kernelspec": {
   "display_name": "Python 3 (ipykernel)",
   "language": "python",
   "name": "python3"
  },
  "language_info": {
   "codemirror_mode": {
    "name": "ipython",
    "version": 3
   },
   "file_extension": ".py",
   "mimetype": "text/x-python",
   "name": "python",
   "nbconvert_exporter": "python",
   "pygments_lexer": "ipython3",
   "version": "3.11.11"
  },
  "lcc_arn": "arn:aws:sagemaker:us-east-1:947495650207:studio-lifecycle-config/install-pip-package-on-kernel"
 },
 "nbformat": 4,
 "nbformat_minor": 5
}
